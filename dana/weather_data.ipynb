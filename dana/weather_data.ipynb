{
 "cells": [
  {
   "cell_type": "code",
   "execution_count": 1,
   "metadata": {},
   "outputs": [],
   "source": [
    "import pandas as pd"
   ]
  },
  {
   "cell_type": "code",
   "execution_count": 2,
   "metadata": {},
   "outputs": [],
   "source": [
    "areas = ['EA', 'NE', 'NW', 'SE', 'SW', 'Mid']\n",
    "seasons = ['WIN', 'SPR', 'SUM', 'AUT']"
   ]
  },
  {
   "cell_type": "code",
   "execution_count": 3,
   "metadata": {},
   "outputs": [],
   "source": [
    "postcodes_areas = { 'EA' : ['AL','CB','CM','CO','EN','IG','IP','LU','MK','NR','PE','RM','SG','SS','WD'],\n",
    "                    'NE' : ['BD','DH','DL','DN','HD','HG','HU','HX','LN','LS','NE','S','SR','TS','WF','YO'],\n",
    "                    'NW' : ['BB','BL','CA','CW','FY','L','LA','M','OL','PR','SK','SY','TF','WA','WN','CH','LL','LD'],\n",
    "                    'SE' : ['E','EC','N','NW','SE','SW','W','WC','GU','HA','HP','OX','PO','RG','SL','SN','SO','SP','UB','BN','BR','CR','CT','DA','KT','ME','RH','SM','TN','TW','BA'],\n",
    "                    'SW' : ['BH','BS','DT','EX','GL','HR','PL','TA','TQ','TR','WR','CF','NP','SA'],\n",
    "                    'Mid' : ['B','CV','DE','DY','LE','NG','NN','ST','WS','WV']\n",
    "                  }"
   ]
  },
  {
   "cell_type": "code",
   "execution_count": 4,
   "metadata": {},
   "outputs": [],
   "source": [
    "rain_data_EA = pd.read_csv('weather_data/rainfall/East_Anglia.txt', sep=\" \")\n",
    "rain_data_NE = pd.read_csv('weather_data/rainfall/England_E_and_NE.txt', sep=\" \")\n",
    "rain_data_NW = pd.read_csv('weather_data/rainfall/England_NW_and_N_Wales.txt', sep=\" \")\n",
    "rain_data_SE = pd.read_csv('weather_data/rainfall/England_SE_and_Central_S.txt', sep=\" \")\n",
    "rain_data_SW = pd.read_csv('weather_data/rainfall/England_SW_and_S_Wales.txt', sep=\" \")\n",
    "rain_data_Mid = pd.read_csv('weather_data/rainfall/Midlands.txt', sep=\" \")"
   ]
  },
  {
   "cell_type": "code",
   "execution_count": 5,
   "metadata": {},
   "outputs": [],
   "source": [
    "rain_list = [rain_data_EA, rain_data_NE, rain_data_NW, rain_data_SE, rain_data_SW, rain_data_Mid]"
   ]
  },
  {
   "cell_type": "code",
   "execution_count": 6,
   "metadata": {},
   "outputs": [],
   "source": [
    "sun_data_EA = pd.read_csv('weather_data/sunshine/East_Anglia.txt', sep=\" \")\n",
    "sun_data_NE = pd.read_csv('weather_data/sunshine/England_E_and_NE.txt', sep=\" \")\n",
    "sun_data_NW = pd.read_csv('weather_data/sunshine/England_NW_and_N_Wales.txt', sep=\" \")\n",
    "sun_data_SE = pd.read_csv('weather_data/sunshine/England_SE_and_Central_S.txt', sep=\" \")\n",
    "sun_data_SW = pd.read_csv('weather_data/sunshine/England_SW_and_S_Wales.txt', sep=\" \")\n",
    "sun_data_Mid = pd.read_csv('weather_data/sunshine/Midlands.txt', sep=\" \")"
   ]
  },
  {
   "cell_type": "code",
   "execution_count": 7,
   "metadata": {},
   "outputs": [],
   "source": [
    "sun_list = [sun_data_EA, sun_data_NE, sun_data_NW, sun_data_SE, sun_data_SW, sun_data_Mid]"
   ]
  },
  {
   "cell_type": "code",
   "execution_count": 8,
   "metadata": {},
   "outputs": [],
   "source": [
    "temp_data_EA = pd.read_csv('weather_data/temperature/East_Anglia.txt', sep=\" \")\n",
    "temp_data_NE = pd.read_csv('weather_data/temperature/England_E_and_NE.txt', sep=\" \")\n",
    "temp_data_NW = pd.read_csv('weather_data/temperature/England_NW_and_N_Wales.txt', sep=\" \")\n",
    "temp_data_SE = pd.read_csv('weather_data/temperature/England_SE_and_Central_S.txt', sep=\" \")\n",
    "temp_data_SW = pd.read_csv('weather_data/temperature/England_SW_and_S_Wales.txt', sep=\" \")\n",
    "temp_data_Mid = pd.read_csv('weather_data/temperature/Midlands.txt', sep=\" \")"
   ]
  },
  {
   "cell_type": "code",
   "execution_count": 9,
   "metadata": {},
   "outputs": [],
   "source": [
    "temp_list = [temp_data_EA, temp_data_NE, temp_data_NW, temp_data_SE, temp_data_SW, temp_data_Mid]"
   ]
  },
  {
   "cell_type": "code",
   "execution_count": 10,
   "metadata": {},
   "outputs": [],
   "source": [
    "rain_summary = {}  #rainfall in mm\n",
    "sun_summary  = {}  #number of sunny hours\n",
    "temp_summary = {}  #mean temperature in degrees C\n",
    "for area in areas:\n",
    "    rain_summary[area] = {} \n",
    "    sun_summary[area] = {} \n",
    "    temp_summary[area] = {}"
   ]
  },
  {
   "cell_type": "code",
   "execution_count": 11,
   "metadata": {},
   "outputs": [],
   "source": [
    "i = 0\n",
    "for temp,sun,rain in zip(temp_list,sun_list,rain_list):\n",
    "    for season in seasons:\n",
    "        rain_summary[areas[i]][season] = rain[season].mean()\n",
    "        sun_summary[areas[i]][season] = sun[season].mean()\n",
    "        temp_summary[areas[i]][season] = temp[season].mean()\n",
    "    i += 1"
   ]
  },
  {
   "cell_type": "code",
   "execution_count": null,
   "metadata": {},
   "outputs": [],
   "source": []
  }
 ],
 "metadata": {
  "kernelspec": {
   "display_name": "Python 3",
   "language": "python",
   "name": "python3"
  },
  "language_info": {
   "codemirror_mode": {
    "name": "ipython",
    "version": 3
   },
   "file_extension": ".py",
   "mimetype": "text/x-python",
   "name": "python",
   "nbconvert_exporter": "python",
   "pygments_lexer": "ipython3",
   "version": "3.7.2"
  }
 },
 "nbformat": 4,
 "nbformat_minor": 2
}
