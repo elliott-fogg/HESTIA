{
 "cells": [
  {
   "cell_type": "code",
   "execution_count": 1,
   "metadata": {},
   "outputs": [],
   "source": [
    "import pandas as pd\n",
    "import os\n",
    "import numpy as np"
   ]
  },
  {
   "cell_type": "code",
   "execution_count": 2,
   "metadata": {},
   "outputs": [],
   "source": [
    "import datetime"
   ]
  },
  {
   "cell_type": "code",
   "execution_count": 3,
   "metadata": {},
   "outputs": [],
   "source": [
    "os.environ['KMP_DUPLICATE_LIB_OK']='True' # solves xgboost conflict 'OMP: Error #15: Initializing libiomp5.dylib, but found libiomp5.dylib already initialized.'"
   ]
  },
  {
   "cell_type": "code",
   "execution_count": 4,
   "metadata": {},
   "outputs": [],
   "source": [
    "filename = 'pp.csv'"
   ]
  },
  {
   "cell_type": "code",
   "execution_count": 5,
   "metadata": {},
   "outputs": [],
   "source": [
    "data = pd.read_csv(filename)\n",
    "data = pd.read_csv(filename,header=0, usecols=[0,1,2,3,4,5,6], parse_dates=True,\n",
    "                   names=('Idx','Price', 'Date', 'PC', 'Type', 'Newold', 'Freehold'))"
   ]
  },
  {
   "cell_type": "code",
   "execution_count": 6,
   "metadata": {},
   "outputs": [
    {
     "data": {
      "text/plain": [
       "24020161"
      ]
     },
     "execution_count": 6,
     "metadata": {},
     "output_type": "execute_result"
    }
   ],
   "source": [
    "len(data)"
   ]
  },
  {
   "cell_type": "code",
   "execution_count": 7,
   "metadata": {},
   "outputs": [],
   "source": [
    "data['year']  = pd.DatetimeIndex(data['Date']).year"
   ]
  },
  {
   "cell_type": "code",
   "execution_count": 8,
   "metadata": {},
   "outputs": [],
   "source": [
    "data['month']  = pd.DatetimeIndex(data['Date']).month"
   ]
  },
  {
   "cell_type": "code",
   "execution_count": 73,
   "metadata": {},
   "outputs": [],
   "source": [
    "data['day']  = pd.DatetimeIndex(data['Date']).dayofweek"
   ]
  },
  {
   "cell_type": "code",
   "execution_count": 75,
   "metadata": {},
   "outputs": [],
   "source": [
    "data['day_month']  = pd.DatetimeIndex(data['Date']).day"
   ]
  },
  {
   "cell_type": "code",
   "execution_count": 9,
   "metadata": {},
   "outputs": [
    {
     "data": {
      "text/plain": [
       "array([1995, 1995, 1995, ..., 2018, 2018, 2018])"
      ]
     },
     "execution_count": 9,
     "metadata": {},
     "output_type": "execute_result"
    }
   ],
   "source": [
    "data['year'].values"
   ]
  },
  {
   "cell_type": "code",
   "execution_count": 10,
   "metadata": {},
   "outputs": [
    {
     "data": {
      "text/plain": [
       "array([1995, 1996, 1997, 1998, 1999, 2000, 2001, 2002, 2003, 2004, 2005,\n",
       "       2006, 2007, 2008, 2009, 2010, 2011, 2012, 2013, 2014, 2015, 2016,\n",
       "       2017, 2018])"
      ]
     },
     "execution_count": 10,
     "metadata": {},
     "output_type": "execute_result"
    }
   ],
   "source": [
    "data['year'].unique()"
   ]
  },
  {
   "cell_type": "code",
   "execution_count": 11,
   "metadata": {},
   "outputs": [
    {
     "data": {
      "text/html": [
       "<div>\n",
       "<style scoped>\n",
       "    .dataframe tbody tr th:only-of-type {\n",
       "        vertical-align: middle;\n",
       "    }\n",
       "\n",
       "    .dataframe tbody tr th {\n",
       "        vertical-align: top;\n",
       "    }\n",
       "\n",
       "    .dataframe thead th {\n",
       "        text-align: right;\n",
       "    }\n",
       "</style>\n",
       "<table border=\"1\" class=\"dataframe\">\n",
       "  <thead>\n",
       "    <tr style=\"text-align: right;\">\n",
       "      <th></th>\n",
       "      <th>Idx</th>\n",
       "      <th>Price</th>\n",
       "      <th>Date</th>\n",
       "      <th>PC</th>\n",
       "      <th>Type</th>\n",
       "      <th>Newold</th>\n",
       "      <th>Freehold</th>\n",
       "      <th>year</th>\n",
       "      <th>month</th>\n",
       "    </tr>\n",
       "  </thead>\n",
       "  <tbody>\n",
       "    <tr>\n",
       "      <th>0</th>\n",
       "      <td>0</td>\n",
       "      <td>122000</td>\n",
       "      <td>1995-09-29 00:00</td>\n",
       "      <td>NG14 5DE</td>\n",
       "      <td>D</td>\n",
       "      <td>N</td>\n",
       "      <td>F</td>\n",
       "      <td>1995</td>\n",
       "      <td>9</td>\n",
       "    </tr>\n",
       "    <tr>\n",
       "      <th>1</th>\n",
       "      <td>1</td>\n",
       "      <td>37000</td>\n",
       "      <td>1995-12-22 00:00</td>\n",
       "      <td>CV21 2JJ</td>\n",
       "      <td>T</td>\n",
       "      <td>N</td>\n",
       "      <td>F</td>\n",
       "      <td>1995</td>\n",
       "      <td>12</td>\n",
       "    </tr>\n",
       "    <tr>\n",
       "      <th>2</th>\n",
       "      <td>2</td>\n",
       "      <td>93500</td>\n",
       "      <td>1995-07-27 00:00</td>\n",
       "      <td>UB8 2AP</td>\n",
       "      <td>D</td>\n",
       "      <td>N</td>\n",
       "      <td>F</td>\n",
       "      <td>1995</td>\n",
       "      <td>7</td>\n",
       "    </tr>\n",
       "    <tr>\n",
       "      <th>3</th>\n",
       "      <td>3</td>\n",
       "      <td>32000</td>\n",
       "      <td>1995-03-03 00:00</td>\n",
       "      <td>HD6 4AD</td>\n",
       "      <td>T</td>\n",
       "      <td>N</td>\n",
       "      <td>F</td>\n",
       "      <td>1995</td>\n",
       "      <td>3</td>\n",
       "    </tr>\n",
       "    <tr>\n",
       "      <th>4</th>\n",
       "      <td>4</td>\n",
       "      <td>38000</td>\n",
       "      <td>1995-09-08 00:00</td>\n",
       "      <td>B30 3PP</td>\n",
       "      <td>T</td>\n",
       "      <td>N</td>\n",
       "      <td>F</td>\n",
       "      <td>1995</td>\n",
       "      <td>9</td>\n",
       "    </tr>\n",
       "  </tbody>\n",
       "</table>\n",
       "</div>"
      ],
      "text/plain": [
       "   Idx   Price              Date        PC Type Newold Freehold  year  month\n",
       "0    0  122000  1995-09-29 00:00  NG14 5DE    D      N        F  1995      9\n",
       "1    1   37000  1995-12-22 00:00  CV21 2JJ    T      N        F  1995     12\n",
       "2    2   93500  1995-07-27 00:00   UB8 2AP    D      N        F  1995      7\n",
       "3    3   32000  1995-03-03 00:00   HD6 4AD    T      N        F  1995      3\n",
       "4    4   38000  1995-09-08 00:00   B30 3PP    T      N        F  1995      9"
      ]
     },
     "execution_count": 11,
     "metadata": {},
     "output_type": "execute_result"
    }
   ],
   "source": [
    "data.head()"
   ]
  },
  {
   "cell_type": "code",
   "execution_count": 12,
   "metadata": {},
   "outputs": [
    {
     "data": {
      "text/plain": [
       "24020161"
      ]
     },
     "execution_count": 12,
     "metadata": {},
     "output_type": "execute_result"
    }
   ],
   "source": [
    "len(data)"
   ]
  },
  {
   "cell_type": "code",
   "execution_count": 13,
   "metadata": {},
   "outputs": [
    {
     "data": {
      "text/html": [
       "<div>\n",
       "<style scoped>\n",
       "    .dataframe tbody tr th:only-of-type {\n",
       "        vertical-align: middle;\n",
       "    }\n",
       "\n",
       "    .dataframe tbody tr th {\n",
       "        vertical-align: top;\n",
       "    }\n",
       "\n",
       "    .dataframe thead th {\n",
       "        text-align: right;\n",
       "    }\n",
       "</style>\n",
       "<table border=\"1\" class=\"dataframe\">\n",
       "  <thead>\n",
       "    <tr style=\"text-align: right;\">\n",
       "      <th></th>\n",
       "      <th>Idx</th>\n",
       "      <th>Price</th>\n",
       "      <th>Date</th>\n",
       "      <th>PC</th>\n",
       "      <th>Type</th>\n",
       "      <th>Newold</th>\n",
       "      <th>Freehold</th>\n",
       "      <th>year</th>\n",
       "      <th>month</th>\n",
       "    </tr>\n",
       "  </thead>\n",
       "  <tbody>\n",
       "    <tr>\n",
       "      <th>1</th>\n",
       "      <td>1</td>\n",
       "      <td>37000</td>\n",
       "      <td>1995-12-22 00:00</td>\n",
       "      <td>CV21 2JJ</td>\n",
       "      <td>T</td>\n",
       "      <td>N</td>\n",
       "      <td>F</td>\n",
       "      <td>1995</td>\n",
       "      <td>12</td>\n",
       "    </tr>\n",
       "    <tr>\n",
       "      <th>11</th>\n",
       "      <td>11</td>\n",
       "      <td>8000</td>\n",
       "      <td>1995-12-22 00:00</td>\n",
       "      <td>BB2 1HT</td>\n",
       "      <td>T</td>\n",
       "      <td>N</td>\n",
       "      <td>F</td>\n",
       "      <td>1995</td>\n",
       "      <td>12</td>\n",
       "    </tr>\n",
       "    <tr>\n",
       "      <th>17</th>\n",
       "      <td>17</td>\n",
       "      <td>36500</td>\n",
       "      <td>1995-12-01 00:00</td>\n",
       "      <td>HU7 0DW</td>\n",
       "      <td>S</td>\n",
       "      <td>N</td>\n",
       "      <td>F</td>\n",
       "      <td>1995</td>\n",
       "      <td>12</td>\n",
       "    </tr>\n",
       "    <tr>\n",
       "      <th>21</th>\n",
       "      <td>21</td>\n",
       "      <td>46500</td>\n",
       "      <td>1995-12-15 00:00</td>\n",
       "      <td>SO30 3FB</td>\n",
       "      <td>T</td>\n",
       "      <td>N</td>\n",
       "      <td>F</td>\n",
       "      <td>1995</td>\n",
       "      <td>12</td>\n",
       "    </tr>\n",
       "    <tr>\n",
       "      <th>26</th>\n",
       "      <td>26</td>\n",
       "      <td>39950</td>\n",
       "      <td>1995-02-28 00:00</td>\n",
       "      <td>HU9 1QD</td>\n",
       "      <td>F</td>\n",
       "      <td>Y</td>\n",
       "      <td>L</td>\n",
       "      <td>1995</td>\n",
       "      <td>2</td>\n",
       "    </tr>\n",
       "  </tbody>\n",
       "</table>\n",
       "</div>"
      ],
      "text/plain": [
       "    Idx  Price              Date        PC Type Newold Freehold  year  month\n",
       "1     1  37000  1995-12-22 00:00  CV21 2JJ    T      N        F  1995     12\n",
       "11   11   8000  1995-12-22 00:00   BB2 1HT    T      N        F  1995     12\n",
       "17   17  36500  1995-12-01 00:00   HU7 0DW    S      N        F  1995     12\n",
       "21   21  46500  1995-12-15 00:00  SO30 3FB    T      N        F  1995     12\n",
       "26   26  39950  1995-02-28 00:00   HU9 1QD    F      Y        L  1995      2"
      ]
     },
     "execution_count": 13,
     "metadata": {},
     "output_type": "execute_result"
    }
   ],
   "source": [
    "data[(data['month'] == 12) | (data['month'] == 1) | (data['month'] == 2)].head()"
   ]
  },
  {
   "cell_type": "code",
   "execution_count": 32,
   "metadata": {},
   "outputs": [],
   "source": [
    "winter = data[(data['month'] == 12) | (data['month'] == 1) | (data['month'] == 2) & (data['Type'] != 'O')]"
   ]
  },
  {
   "cell_type": "code",
   "execution_count": 33,
   "metadata": {},
   "outputs": [],
   "source": [
    "spring = data[(data['month'] == 3) | (data['month'] == 4) | (data['month'] == 5) & (data['Type'] != 'O')]"
   ]
  },
  {
   "cell_type": "code",
   "execution_count": 34,
   "metadata": {},
   "outputs": [],
   "source": [
    "summer = data[(data['month'] == 6) | (data['month'] == 7) | (data['month'] == 8) & (data['Type'] != 'O')]"
   ]
  },
  {
   "cell_type": "code",
   "execution_count": 35,
   "metadata": {},
   "outputs": [],
   "source": [
    "autumn = data[(data['month'] == 9) | (data['month'] == 10) | (data['month'] == 11) & (data['Type'] != 'O')]"
   ]
  },
  {
   "cell_type": "code",
   "execution_count": 36,
   "metadata": {},
   "outputs": [],
   "source": [
    "detached = data[data['Type'] == 'D']"
   ]
  },
  {
   "cell_type": "code",
   "execution_count": 37,
   "metadata": {},
   "outputs": [],
   "source": [
    "semi = data[data['Type'] == 'S']"
   ]
  },
  {
   "cell_type": "code",
   "execution_count": 38,
   "metadata": {},
   "outputs": [],
   "source": [
    "terraced = data[data['Type'] == 'T']"
   ]
  },
  {
   "cell_type": "code",
   "execution_count": 39,
   "metadata": {},
   "outputs": [],
   "source": [
    "flat = data[data['Type'] == 'F']"
   ]
  },
  {
   "cell_type": "code",
   "execution_count": 40,
   "metadata": {},
   "outputs": [],
   "source": [
    "other = data[data['Type'] == 'O']"
   ]
  },
  {
   "cell_type": "code",
   "execution_count": 41,
   "metadata": {},
   "outputs": [
    {
     "data": {
      "text/plain": [
       "6281588"
      ]
     },
     "execution_count": 41,
     "metadata": {},
     "output_type": "execute_result"
    }
   ],
   "source": [
    "autumn.shape[0]"
   ]
  },
  {
   "cell_type": "code",
   "execution_count": 46,
   "metadata": {},
   "outputs": [
    {
     "data": {
      "image/png": "[encoded data removed]",
      "text/plain": [
       "<Figure size 432x288 with 1 Axes>"
      ]
     },
     "metadata": {
      "needs_background": "light"
     },
     "output_type": "display_data"
    }
   ],
   "source": [
    "import matplotlib.pyplot as plt\n",
    "#winter['month'].value_counts().sort_index().plot(kind='bar', color = 'b')\n",
    "seasons = (winter.shape[0], spring.shape[0], summer.shape[0], autumn.shape[0])\n",
    "plt.bar(np.arange(4),seasons, color = 'b')\n",
    "plt.title('Number of houses sold per season')\n",
    "plt.xticks([0,1,2,3],['Winter','Spring','Summer','Autumn'])\n",
    "plt.xlabel('Season')\n",
    "plt.ylabel('Count')\n",
    "plt.savefig('Number_of_houses_sold_per_season_exclude_others.pdf')"
   ]
  },
  {
   "cell_type": "code",
   "execution_count": 48,
   "metadata": {},
   "outputs": [
    {
     "data": {
      "image/png": "[encoded data removed]",
      "text/plain": [
       "<Figure size 432x288 with 1 Axes>"
      ]
     },
     "metadata": {
      "needs_background": "light"
     },
     "output_type": "display_data"
    }
   ],
   "source": [
    "#winter['month'].value_counts().sort_index().plot(kind='bar', color = 'b')\n",
    "houses = (detached['Price'].mean(), semi['Price'].mean(), terraced['Price'].mean(), flat['Price'].mean())\n",
    "plt.bar(np.arange(4),houses, color = 'b')\n",
    "plt.title('Price of houses per house type')\n",
    "plt.xticks([0,1,2,3],['Detached', 'Semi detached', 'Terraced', 'Flat'])\n",
    "plt.xlabel('Type of house')\n",
    "plt.ylabel('Mean price')\n",
    "plt.savefig('price_of_houses_per_house_type_exclude_others.pdf')"
   ]
  },
  {
   "cell_type": "code",
   "execution_count": 55,
   "metadata": {},
   "outputs": [
    {
     "data": {
      "image/png": "[encoded data removed]",
      "text/plain": [
       "<Figure size 432x288 with 1 Axes>"
      ]
     },
     "metadata": {
      "needs_background": "light"
     },
     "output_type": "display_data"
    }
   ],
   "source": [
    "#winter['month'].value_counts().sort_index().plot(kind='bar', color = 'b')\n",
    "houses = (detached['Price'].mean(), semi['Price'].mean(), terraced['Price'].mean(), flat['Price'].mean(), other['Price'].mean())\n",
    "plt.bar(np.arange(5),houses, color = 'b')\n",
    "plt.title('Price of houses per house type')\n",
    "plt.xticks([0,1,2,3,4],['Detached', 'Semi detached', 'Terraced', 'Flat', 'Other'])\n",
    "plt.xlabel('Type of house')\n",
    "plt.ylabel('Mean price')\n",
    "plt.savefig('price_of_houses_per_house_type.pdf')"
   ]
  },
  {
   "cell_type": "code",
   "execution_count": 52,
   "metadata": {},
   "outputs": [
    {
     "data": {
      "image/png": "[encoded data removed]",
      "text/plain": [
       "<Figure size 432x288 with 1 Axes>"
      ]
     },
     "metadata": {
      "needs_background": "light"
     },
     "output_type": "display_data"
    }
   ],
   "source": [
    "#winter['month'].value_counts().sort_index().plot(kind='bar', color = 'b')\n",
    "houses = (len(detached), len(semi), len(terraced), len(flat), len(other))\n",
    "plt.bar(np.arange(5),houses, color = 'b')\n",
    "plt.title('Number of houses sold per house type')\n",
    "plt.xticks([0,1,2,3,4],['Detached', 'Semi detached', 'Terraced', 'Flat', 'Others'])\n",
    "plt.xlabel('Type of house')\n",
    "plt.ylabel('Count')\n",
    "plt.savefig('houses_sold_per_house_type.pdf')"
   ]
  },
  {
   "cell_type": "code",
   "execution_count": 24,
   "metadata": {},
   "outputs": [
    {
     "data": {
      "image/png": "[encoded data removed]",
      "text/plain": [
       "<Figure size 432x288 with 1 Axes>"
      ]
     },
     "metadata": {
      "needs_background": "light"
     },
     "output_type": "display_data"
    }
   ],
   "source": [
    "import matplotlib.pyplot as plt\n",
    "#winter['month'].value_counts().sort_index().plot(kind='bar', color = 'b')\n",
    "seasons_T = (winter['Type'].value_counts()[0], spring['Type'].value_counts()[0], summer['Type'].value_counts()[0], autumn['Type'].value_counts()[0])\n",
    "seasons_S = (winter['Type'].value_counts()[1], spring['Type'].value_counts()[1], summer['Type'].value_counts()[1], autumn['Type'].value_counts()[1])\n",
    "seasons_D = (winter['Type'].value_counts()[2], spring['Type'].value_counts()[2], summer['Type'].value_counts()[2], autumn['Type'].value_counts()[2])\n",
    "seasons_F = (winter['Type'].value_counts()[3], spring['Type'].value_counts()[3], summer['Type'].value_counts()[3], autumn['Type'].value_counts()[3])\n",
    "seasons_O = (winter['Type'].value_counts()[4], spring['Type'].value_counts()[4], summer['Type'].value_counts()[4], autumn['Type'].value_counts()[4])\n",
    "\n",
    "plt.bar(np.arange(4),seasons_T, color = 'r')\n",
    "plt.bar(np.arange(4),seasons_S, color = 'y')\n",
    "plt.bar(np.arange(4),seasons_D, color = 'g')\n",
    "plt.bar(np.arange(4),seasons_F, color = 'b')\n",
    "plt.bar(np.arange(4),seasons_O, color = 'black')\n",
    "plt.title('Number of houses sold per house type per season')\n",
    "plt.xticks([0,1,2,3],['Winter','Spring','Summer','Autumn'])\n",
    "plt.xlabel('Season')\n",
    "plt.ylabel('Count')\n",
    "plt.savefig('Number_of_houses_sold_per_house_type_per_season.pdf')"
   ]
  },
  {
   "cell_type": "code",
   "execution_count": 49,
   "metadata": {},
   "outputs": [
    {
     "data": {
      "image/png": "[encoded data removed]",
      "text/plain": [
       "<Figure size 432x288 with 1 Axes>"
      ]
     },
     "metadata": {
      "needs_background": "light"
     },
     "output_type": "display_data"
    }
   ],
   "source": [
    "import matplotlib.pyplot as plt\n",
    "#winter['month'].value_counts().sort_index().plot(kind='bar', color = 'b')\n",
    "seasons = (winter['Price'].mean(), spring['Price'].mean(), summer['Price'].mean(), autumn['Price'].mean())\n",
    "plt.bar(np.arange(4),seasons, color = 'b')\n",
    "plt.title('Price of houses sold per season')\n",
    "plt.xticks([0,1,2,3],['Winter','Spring','Summer','Autumn'])\n",
    "plt.xlabel('Season')\n",
    "plt.ylabel('Price')\n",
    "plt.savefig('price_of_houses_per_season_exclude_others.pdf')"
   ]
  },
  {
   "cell_type": "code",
   "execution_count": 26,
   "metadata": {},
   "outputs": [
    {
     "data": {
      "image/png": "[encoded data removed]",
      "text/plain": [
       "<Figure size 432x288 with 1 Axes>"
      ]
     },
     "metadata": {
      "needs_background": "light"
     },
     "output_type": "display_data"
    }
   ],
   "source": [
    "import matplotlib.pyplot as plt\n",
    "#plt.bar(data['year'].value_counts().sort_index())\n",
    "data['month'].value_counts().sort_index().plot(kind='bar', color = 'b')\n",
    "plt.title('Number of houses sold per month')\n",
    "plt.xlabel('Month')\n",
    "plt.ylabel('Count')\n",
    "plt.savefig('Number_of_houses_sold_per_month.pdf')"
   ]
  },
  {
   "cell_type": "code",
   "execution_count": 78,
   "metadata": {},
   "outputs": [
    {
     "data": {
      "image/png": "[encoded data removed]",
      "text/plain": [
       "<Figure size 432x288 with 1 Axes>"
      ]
     },
     "metadata": {
      "needs_background": "light"
     },
     "output_type": "display_data"
    }
   ],
   "source": [
    "import matplotlib.pyplot as plt\n",
    "#plt.bar(data['year'].value_counts().sort_index())\n",
    "data['day'].value_counts().sort_index().plot(kind='bar', color = 'b')\n",
    "plt.title('Number of houses sold per day of the week')\n",
    "plt.xticks([0,1,2,3,4,5,6],['Mon','Tue','Wed','Thur', 'Fri', 'Sat', 'Sun'])\n",
    "plt.xlabel('Week day')\n",
    "plt.ylabel('Count')\n",
    "plt.savefig('Number_of_houses_sold_per_day_of_week.pdf')"
   ]
  },
  {
   "cell_type": "code",
   "execution_count": 77,
   "metadata": {},
   "outputs": [
    {
     "data": {
      "image/png": "[encoded data removed]",
      "text/plain": [
       "<Figure size 432x288 with 1 Axes>"
      ]
     },
     "metadata": {
      "needs_background": "light"
     },
     "output_type": "display_data"
    }
   ],
   "source": [
    "import matplotlib.pyplot as plt\n",
    "#plt.bar(data['year'].value_counts().sort_index())\n",
    "data['day_month'].value_counts().sort_index().plot(kind='bar', color = 'b')\n",
    "plt.title('Number of houses sold per day')\n",
    "plt.xlabel('Day')\n",
    "plt.ylabel('Count')\n",
    "plt.savefig('Number_of_houses_sold_per_day.pdf')"
   ]
  },
  {
   "cell_type": "code",
   "execution_count": 27,
   "metadata": {},
   "outputs": [
    {
     "data": {
      "image/png": "[encoded data removed]",
      "text/plain": [
       "<Figure size 432x288 with 1 Axes>"
      ]
     },
     "metadata": {
      "needs_background": "light"
     },
     "output_type": "display_data"
    }
   ],
   "source": [
    "data['year'].value_counts().sort_index().plot(kind='bar', color = 'b')\n",
    "plt.title('Number of houses sold by year')\n",
    "plt.xlabel('Year')\n",
    "plt.ylabel('Count')\n",
    "plt.savefig('Number_of_houses_sold_per_year.pdf')"
   ]
  },
  {
   "cell_type": "code",
   "execution_count": 65,
   "metadata": {},
   "outputs": [],
   "source": [
    "new = data[data['Newold'] == 'Y']"
   ]
  },
  {
   "cell_type": "code",
   "execution_count": 62,
   "metadata": {},
   "outputs": [
    {
     "data": {
      "image/png": "[encoded data removed]",
      "text/plain": [
       "<Figure size 432x288 with 1 Axes>"
      ]
     },
     "metadata": {
      "needs_background": "light"
     },
     "output_type": "display_data"
    }
   ],
   "source": [
    "data['year'].value_counts().sort_index().plot(kind='bar', color = 'b')\n",
    "new['year'].value_counts().sort_index().plot(kind='bar', color = 'y')\n",
    "plt.title('Number of new and hold houses sold by year')\n",
    "plt.xlabel('Year')\n",
    "plt.ylabel('Count')\n",
    "plt.savefig('Number_of_houses_sold_per_year_lease.pdf')"
   ]
  },
  {
   "cell_type": "code",
   "execution_count": 64,
   "metadata": {},
   "outputs": [
    {
     "data": {
      "text/plain": [
       "Index(['Idx', 'Price', 'Date', 'PC', 'Type', 'Newold', 'Freehold', 'year',\n",
       "       'month'],\n",
       "      dtype='object')"
      ]
     },
     "execution_count": 64,
     "metadata": {},
     "output_type": "execute_result"
    }
   ],
   "source": [
    "data.columns"
   ]
  },
  {
   "cell_type": "code",
   "execution_count": 68,
   "metadata": {},
   "outputs": [],
   "source": [
    "free = data[data['Freehold'] == 'F']"
   ]
  },
  {
   "cell_type": "code",
   "execution_count": 69,
   "metadata": {},
   "outputs": [
    {
     "data": {
      "image/png": "[encoded data removed]",
      "text/plain": [
       "<Figure size 432x288 with 1 Axes>"
      ]
     },
     "metadata": {
      "needs_background": "light"
     },
     "output_type": "display_data"
    }
   ],
   "source": [
    "data['year'].value_counts().sort_index().plot(kind='bar', color = 'b')\n",
    "free['year'].value_counts().sort_index().plot(kind='bar', color = 'y')\n",
    "plt.title('Number of Freehold and lease hold houses sold by year')\n",
    "plt.xlabel('Year')\n",
    "plt.ylabel('Count')\n",
    "plt.savefig('Number_of_houses_sold_per_year_lease.pdf')"
   ]
  },
  {
   "cell_type": "code",
   "execution_count": 10,
   "metadata": {},
   "outputs": [],
   "source": [
    "sample_pp = pd.DataFrame()\n",
    "for i in range(0, len(data['year'].unique())):\n",
    "    sample_small = data[data['year'] == data['year'].unique()[i]]\n",
    "    sample_aux = sample_small.sample(n=100000, random_state = 42)\n",
    "    sample_pp = sample_pp.append(sample_aux, ignore_index = True)"
   ]
  },
  {
   "cell_type": "code",
   "execution_count": 11,
   "metadata": {},
   "outputs": [
    {
     "data": {
      "text/html": [
       "<div>\n",
       "<style scoped>\n",
       "    .dataframe tbody tr th:only-of-type {\n",
       "        vertical-align: middle;\n",
       "    }\n",
       "\n",
       "    .dataframe tbody tr th {\n",
       "        vertical-align: top;\n",
       "    }\n",
       "\n",
       "    .dataframe thead th {\n",
       "        text-align: right;\n",
       "    }\n",
       "</style>\n",
       "<table border=\"1\" class=\"dataframe\">\n",
       "  <thead>\n",
       "    <tr style=\"text-align: right;\">\n",
       "      <th></th>\n",
       "      <th>Idx</th>\n",
       "      <th>Price</th>\n",
       "      <th>Date</th>\n",
       "      <th>PC</th>\n",
       "      <th>Type</th>\n",
       "      <th>Newold</th>\n",
       "      <th>Freehold</th>\n",
       "      <th>year</th>\n",
       "    </tr>\n",
       "  </thead>\n",
       "  <tbody>\n",
       "    <tr>\n",
       "      <th>2399995</th>\n",
       "      <td>23655716</td>\n",
       "      <td>230000</td>\n",
       "      <td>2018-10-24 00:00</td>\n",
       "      <td>NE21 4FE</td>\n",
       "      <td>D</td>\n",
       "      <td>N</td>\n",
       "      <td>F</td>\n",
       "      <td>2018</td>\n",
       "    </tr>\n",
       "    <tr>\n",
       "      <th>2399996</th>\n",
       "      <td>23411299</td>\n",
       "      <td>106000</td>\n",
       "      <td>2018-05-01 00:00</td>\n",
       "      <td>FY4 2DJ</td>\n",
       "      <td>S</td>\n",
       "      <td>N</td>\n",
       "      <td>F</td>\n",
       "      <td>2018</td>\n",
       "    </tr>\n",
       "    <tr>\n",
       "      <th>2399997</th>\n",
       "      <td>23336236</td>\n",
       "      <td>425000</td>\n",
       "      <td>2018-04-18 00:00</td>\n",
       "      <td>TD15 1HX</td>\n",
       "      <td>T</td>\n",
       "      <td>N</td>\n",
       "      <td>F</td>\n",
       "      <td>2018</td>\n",
       "    </tr>\n",
       "    <tr>\n",
       "      <th>2399998</th>\n",
       "      <td>23310238</td>\n",
       "      <td>235000</td>\n",
       "      <td>2018-04-19 00:00</td>\n",
       "      <td>HX7 6QA</td>\n",
       "      <td>S</td>\n",
       "      <td>Y</td>\n",
       "      <td>F</td>\n",
       "      <td>2018</td>\n",
       "    </tr>\n",
       "    <tr>\n",
       "      <th>2399999</th>\n",
       "      <td>23248074</td>\n",
       "      <td>1280000</td>\n",
       "      <td>2018-10-19 00:00</td>\n",
       "      <td>SW12 8BL</td>\n",
       "      <td>T</td>\n",
       "      <td>N</td>\n",
       "      <td>F</td>\n",
       "      <td>2018</td>\n",
       "    </tr>\n",
       "  </tbody>\n",
       "</table>\n",
       "</div>"
      ],
      "text/plain": [
       "              Idx    Price              Date        PC Type Newold Freehold  \\\n",
       "2399995  23655716   230000  2018-10-24 00:00  NE21 4FE    D      N        F   \n",
       "2399996  23411299   106000  2018-05-01 00:00   FY4 2DJ    S      N        F   \n",
       "2399997  23336236   425000  2018-04-18 00:00  TD15 1HX    T      N        F   \n",
       "2399998  23310238   235000  2018-04-19 00:00   HX7 6QA    S      Y        F   \n",
       "2399999  23248074  1280000  2018-10-19 00:00  SW12 8BL    T      N        F   \n",
       "\n",
       "         year  \n",
       "2399995  2018  \n",
       "2399996  2018  \n",
       "2399997  2018  \n",
       "2399998  2018  \n",
       "2399999  2018  "
      ]
     },
     "execution_count": 11,
     "metadata": {},
     "output_type": "execute_result"
    }
   ],
   "source": [
    "sample_pp.tail()"
   ]
  },
  {
   "cell_type": "code",
   "execution_count": 12,
   "metadata": {},
   "outputs": [
    {
     "data": {
      "text/plain": [
       "2400000"
      ]
     },
     "execution_count": 12,
     "metadata": {},
     "output_type": "execute_result"
    }
   ],
   "source": [
    "len(sample_pp)"
   ]
  },
  {
   "cell_type": "markdown",
   "metadata": {},
   "source": [
    "## Features"
   ]
  },
  {
   "cell_type": "markdown",
   "metadata": {},
   "source": [
    "Get predictions for the house prices interms of:\n",
    "* date - take year and month.\n",
    "* type - D = Detached, S = Semi-Detached, T = Terraced, F = Flats/Maisonettes, O = Other \n",
    "* New or old - Y = a newly built property, N = an established residential building\n",
    "* Free hold - Relates to the tenure: F = Freehold, L= Leasehold etc."
   ]
  },
  {
   "cell_type": "code",
   "execution_count": 13,
   "metadata": {},
   "outputs": [],
   "source": [
    "def newhold(row):\n",
    "    if row['Newold'] == 'Y':\n",
    "        return np.int(1)\n",
    "    if row['Newold'] == 'N': \n",
    "        return np.int(0)\n",
    "\n",
    "def freehold(row):\n",
    "    if row['Freehold'] == 'F':\n",
    "        return np.int(1)\n",
    "    if row['Freehold'] == 'L':\n",
    "        return np.int(0)\n",
    "\n",
    "def housetype(row):\n",
    "    if row['Type'] == 'O':\n",
    "        return np.int(0)\n",
    "    if row['Type'] == 'D':\n",
    "        return np.int(1)\n",
    "    if row['Type'] == 'S':\n",
    "        return np.int(2)\n",
    "    if row['Type'] == 'T':\n",
    "        return np.int(3)\n",
    "    if row['Type'] == 'F':\n",
    "        return np.int(4)"
   ]
  },
  {
   "cell_type": "code",
   "execution_count": 15,
   "metadata": {},
   "outputs": [],
   "source": [
    "data_df = sample_pp.copy()\n",
    "#data_df = data.copy()"
   ]
  },
  {
   "cell_type": "code",
   "execution_count": 16,
   "metadata": {},
   "outputs": [],
   "source": [
    "data_df['Newold_OHE'] = data_df.apply(lambda row: newhold(row), axis=1)"
   ]
  },
  {
   "cell_type": "code",
   "execution_count": 17,
   "metadata": {},
   "outputs": [],
   "source": [
    "data_df['freehold_OHE'] = data_df.apply(lambda row: freehold(row), axis=1)"
   ]
  },
  {
   "cell_type": "code",
   "execution_count": 18,
   "metadata": {},
   "outputs": [],
   "source": [
    "data_df['Type_OHE'] = data_df.apply(lambda row: housetype(row), axis=1)"
   ]
  },
  {
   "cell_type": "code",
   "execution_count": 19,
   "metadata": {},
   "outputs": [],
   "source": [
    "#data_df['year'] = pd.DatetimeIndex(data_df['Date']).year"
   ]
  },
  {
   "cell_type": "code",
   "execution_count": 20,
   "metadata": {},
   "outputs": [],
   "source": [
    "data_df['month'] = pd.DatetimeIndex(data_df['Date']).month"
   ]
  },
  {
   "cell_type": "code",
   "execution_count": 21,
   "metadata": {},
   "outputs": [],
   "source": [
    "data_df['PC_O'], data_df['PC_1'] = data_df['PC'].str.split(' ', 1).str"
   ]
  },
  {
   "cell_type": "code",
   "execution_count": 22,
   "metadata": {},
   "outputs": [
    {
     "data": {
      "text/html": [
       "<div>\n",
       "<style scoped>\n",
       "    .dataframe tbody tr th:only-of-type {\n",
       "        vertical-align: middle;\n",
       "    }\n",
       "\n",
       "    .dataframe tbody tr th {\n",
       "        vertical-align: top;\n",
       "    }\n",
       "\n",
       "    .dataframe thead th {\n",
       "        text-align: right;\n",
       "    }\n",
       "</style>\n",
       "<table border=\"1\" class=\"dataframe\">\n",
       "  <thead>\n",
       "    <tr style=\"text-align: right;\">\n",
       "      <th></th>\n",
       "      <th>Idx</th>\n",
       "      <th>Price</th>\n",
       "      <th>Date</th>\n",
       "      <th>PC</th>\n",
       "      <th>Type</th>\n",
       "      <th>Newold</th>\n",
       "      <th>Freehold</th>\n",
       "      <th>year</th>\n",
       "      <th>Newold_OHE</th>\n",
       "      <th>freehold_OHE</th>\n",
       "      <th>Type_OHE</th>\n",
       "      <th>month</th>\n",
       "      <th>PC_O</th>\n",
       "      <th>PC_1</th>\n",
       "    </tr>\n",
       "  </thead>\n",
       "  <tbody>\n",
       "    <tr>\n",
       "      <th>0</th>\n",
       "      <td>374492</td>\n",
       "      <td>286000</td>\n",
       "      <td>1995-11-24 00:00</td>\n",
       "      <td>KT8 9AZ</td>\n",
       "      <td>D</td>\n",
       "      <td>Y</td>\n",
       "      <td>F</td>\n",
       "      <td>1995</td>\n",
       "      <td>1</td>\n",
       "      <td>1.0</td>\n",
       "      <td>1</td>\n",
       "      <td>11</td>\n",
       "      <td>KT8</td>\n",
       "      <td>9AZ</td>\n",
       "    </tr>\n",
       "    <tr>\n",
       "      <th>1</th>\n",
       "      <td>531195</td>\n",
       "      <td>98950</td>\n",
       "      <td>1995-10-17 00:00</td>\n",
       "      <td>HR8 1PP</td>\n",
       "      <td>D</td>\n",
       "      <td>N</td>\n",
       "      <td>F</td>\n",
       "      <td>1995</td>\n",
       "      <td>0</td>\n",
       "      <td>1.0</td>\n",
       "      <td>1</td>\n",
       "      <td>10</td>\n",
       "      <td>HR8</td>\n",
       "      <td>1PP</td>\n",
       "    </tr>\n",
       "    <tr>\n",
       "      <th>2</th>\n",
       "      <td>481861</td>\n",
       "      <td>86950</td>\n",
       "      <td>1995-06-16 00:00</td>\n",
       "      <td>HP2 4UG</td>\n",
       "      <td>T</td>\n",
       "      <td>Y</td>\n",
       "      <td>F</td>\n",
       "      <td>1995</td>\n",
       "      <td>1</td>\n",
       "      <td>1.0</td>\n",
       "      <td>3</td>\n",
       "      <td>6</td>\n",
       "      <td>HP2</td>\n",
       "      <td>4UG</td>\n",
       "    </tr>\n",
       "    <tr>\n",
       "      <th>3</th>\n",
       "      <td>651484</td>\n",
       "      <td>45000</td>\n",
       "      <td>1995-05-24 00:00</td>\n",
       "      <td>WA11 8HD</td>\n",
       "      <td>S</td>\n",
       "      <td>N</td>\n",
       "      <td>L</td>\n",
       "      <td>1995</td>\n",
       "      <td>0</td>\n",
       "      <td>0.0</td>\n",
       "      <td>2</td>\n",
       "      <td>5</td>\n",
       "      <td>WA11</td>\n",
       "      <td>8HD</td>\n",
       "    </tr>\n",
       "    <tr>\n",
       "      <th>4</th>\n",
       "      <td>628854</td>\n",
       "      <td>33000</td>\n",
       "      <td>1995-09-20 00:00</td>\n",
       "      <td>DH3 2DG</td>\n",
       "      <td>S</td>\n",
       "      <td>N</td>\n",
       "      <td>F</td>\n",
       "      <td>1995</td>\n",
       "      <td>0</td>\n",
       "      <td>1.0</td>\n",
       "      <td>2</td>\n",
       "      <td>9</td>\n",
       "      <td>DH3</td>\n",
       "      <td>2DG</td>\n",
       "    </tr>\n",
       "  </tbody>\n",
       "</table>\n",
       "</div>"
      ],
      "text/plain": [
       "      Idx   Price              Date        PC Type Newold Freehold  year  \\\n",
       "0  374492  286000  1995-11-24 00:00   KT8 9AZ    D      Y        F  1995   \n",
       "1  531195   98950  1995-10-17 00:00   HR8 1PP    D      N        F  1995   \n",
       "2  481861   86950  1995-06-16 00:00   HP2 4UG    T      Y        F  1995   \n",
       "3  651484   45000  1995-05-24 00:00  WA11 8HD    S      N        L  1995   \n",
       "4  628854   33000  1995-09-20 00:00   DH3 2DG    S      N        F  1995   \n",
       "\n",
       "   Newold_OHE  freehold_OHE  Type_OHE  month  PC_O PC_1  \n",
       "0           1           1.0         1     11   KT8  9AZ  \n",
       "1           0           1.0         1     10   HR8  1PP  \n",
       "2           1           1.0         3      6   HP2  4UG  \n",
       "3           0           0.0         2      5  WA11  8HD  \n",
       "4           0           1.0         2      9   DH3  2DG  "
      ]
     },
     "execution_count": 22,
     "metadata": {},
     "output_type": "execute_result"
    }
   ],
   "source": [
    "data_df.head()"
   ]
  },
  {
   "cell_type": "code",
   "execution_count": 23,
   "metadata": {},
   "outputs": [
    {
     "data": {
      "text/plain": [
       "2400000"
      ]
     },
     "execution_count": 23,
     "metadata": {},
     "output_type": "execute_result"
    }
   ],
   "source": [
    "len(data_df)"
   ]
  },
  {
   "cell_type": "code",
   "execution_count": null,
   "metadata": {},
   "outputs": [],
   "source": [
    "data_df.columns"
   ]
  },
  {
   "cell_type": "code",
   "execution_count": 24,
   "metadata": {},
   "outputs": [],
   "source": [
    "data_df.to_csv('pp.csv', columns=['Idx', 'Price','PC', 'PC_O', 'PC_1', \n",
    "       'Newold_OHE', 'freehold_OHE', 'Type_OHE', 'month', 'year'])"
   ]
  },
  {
   "cell_type": "code",
   "execution_count": null,
   "metadata": {},
   "outputs": [],
   "source": []
  }
 ],
 "metadata": {
  "kernelspec": {
   "display_name": "Python 3",
   "language": "python",
   "name": "python3"
  },
  "language_info": {
   "codemirror_mode": {
    "name": "ipython",
    "version": 3
   },
   "file_extension": ".py",
   "mimetype": "text/x-python",
   "name": "python",
   "nbconvert_exporter": "python",
   "pygments_lexer": "ipython3",
   "version": "3.7.1"
  }
 },
 "nbformat": 4,
 "nbformat_minor": 2
}
