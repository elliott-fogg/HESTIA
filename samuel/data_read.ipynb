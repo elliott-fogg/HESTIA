{
 "cells": [
  {
   "cell_type": "code",
   "execution_count": 2,
   "metadata": {},
   "outputs": [
    {
     "name": "stdout",
     "output_type": "stream",
     "text": [
      "24020161\n"
     ]
    }
   ],
   "source": [
    "n = 0\n",
    "\n",
    "with open('pp-complete.csv') as file:\n",
    "        for i in file:\n",
    "            n += 1\n",
    "print(n)"
   ]
  },
  {
   "cell_type": "code",
   "execution_count": 34,
   "metadata": {},
   "outputs": [],
   "source": [
    "import pandas as pd\n",
    "\n",
    "length = 24020161\n",
    "\n",
    "file = pd.read_csv('pp-complete.csv', header=None, iterator=True,\n",
    "                   chunksize=100000, usecols=[1,2,3,4,5,6], parse_dates=True,\n",
    "                   names=('Price', 'Date', 'PC', 'Type', 'Newold', 'Freehold')\n",
    "                  )"
   ]
  },
  {
   "cell_type": "code",
   "execution_count": 35,
   "metadata": {},
   "outputs": [
    {
     "name": "stdout",
     "output_type": "stream",
     "text": [
      "        Price              Date        PC Type Newold Freehold\n",
      "0      122000  1995-09-29 00:00  NG14 5DE    D      N        F\n",
      "1       37000  1995-12-22 00:00  CV21 2JJ    T      N        F\n",
      "2       93500  1995-07-27 00:00   UB8 2AP    D      N        F\n",
      "3       32000  1995-03-03 00:00   HD6 4AD    T      N        F\n",
      "4       38000  1995-09-08 00:00   B30 3PP    T      N        F\n",
      "5       29000  1995-08-04 00:00  WF15 7LY    S      N        F\n",
      "6       86000  1995-09-21 00:00  CV37 7AJ    S      N        F\n",
      "7       58000  1995-04-11 00:00   HP3 9LS    T      Y        F\n",
      "8      139950  1995-09-15 00:00   HA5 2TP    D      N        F\n",
      "9       14000  1995-03-24 00:00   NG2 4AR    T      N        F\n",
      "10      49995  1995-04-21 00:00   CO5 0DD    T      N        F\n",
      "11       8000  1995-12-22 00:00   BB2 1HT    T      N        F\n",
      "12      37320  1995-05-05 00:00  TN35 5BT    T      N        F\n",
      "13     103500  1995-05-26 00:00  WA15 8BX    S      N        F\n",
      "14      77500  1995-11-17 00:00   B60 2HA    S      N        L\n",
      "15      42000  1995-07-07 00:00  CW12 3BG    S      N        F\n",
      "16      94500  1995-07-25 00:00  RG12 8GJ    D      N        F\n",
      "17      36500  1995-12-01 00:00   HU7 0DW    S      N        F\n",
      "18      46000  1995-08-30 00:00  SO18 2FP    T      N        L\n",
      "19      31500  1995-10-13 00:00  NE34 8NS    S      N        F\n",
      "20     105000  1995-10-03 00:00   SS8 7NY    D      N        F\n",
      "21      46500  1995-12-15 00:00  SO30 3FB    T      N        F\n",
      "22      56500  1995-10-12 00:00   S10 1NF    T      N        L\n",
      "23      66500  1995-04-28 00:00  OX33 1QE    T      Y        F\n",
      "24     110950  1995-06-02 00:00   LE8 6QX    D      Y        F\n",
      "25      35000  1995-04-28 00:00  NE10 0NS    S      N        F\n",
      "26      39950  1995-02-28 00:00   HU9 1QD    F      Y        L\n",
      "27      33950  1995-02-28 00:00   HD8 9FG    F      Y        L\n",
      "28      49950  1995-10-27 00:00   HX6 4RZ    F      Y        L\n",
      "29      84950  1995-05-22 00:00   M45 7BN    D      Y        L\n",
      "...       ...               ...       ...  ...    ...      ...\n",
      "99970   39995  1995-08-25 00:00  CF31 2QS    S      Y        F\n",
      "99971   70000  1995-11-16 00:00   LA3 2RE    D      N        F\n",
      "99972   56500  1995-12-11 00:00   PL9 8UL    S      N        F\n",
      "99973   65000  1995-03-29 00:00  CV23 0NX    D      N        F\n",
      "99974   28000  1995-12-18 00:00   B23 6AS    T      N        F\n",
      "99975   36000  1995-03-24 00:00  NE11 0TW    T      N        F\n",
      "99976   53000  1995-09-22 00:00  PO11 9NZ    S      N        F\n",
      "99977   84250  1995-12-15 00:00   DN5 7XL    D      Y        F\n",
      "99978   46995  1995-08-31 00:00  BA21 3TW    S      Y        F\n",
      "99979   94950  1995-05-26 00:00   CW2 6XG    D      Y        F\n",
      "99980   68000  1995-07-28 00:00  RM12 5PS    T      N        F\n",
      "99981   63000  1995-07-31 00:00  ST13 8TF    S      N        F\n",
      "99982   58000  1995-05-16 00:00   EN5 4BU    F      N        L\n",
      "99983   17700  1995-01-20 00:00  NE23 2FL    F      N        L\n",
      "99984   37500  1995-03-17 00:00  NP20 5QJ    S      N        F\n",
      "99985   82950  1995-07-07 00:00  RH12 1SF    T      Y        F\n",
      "99986   55000  1995-08-25 00:00  SO30 2AG    T      N        F\n",
      "99987   20750  1995-11-10 00:00  NG15 7HN    T      N        F\n",
      "99988   58950  1995-09-29 00:00   ST2 7QG    D      Y        F\n",
      "99989   87000  1995-04-06 00:00  SE25 4DR    T      N        F\n",
      "99990   51950  1995-10-31 00:00   HU9 1SY    S      Y        F\n",
      "99991   66500  1995-02-15 00:00  EX34 7BE    S      N        F\n",
      "99992   47450  1995-07-21 00:00   BB1 6NL    S      Y        F\n",
      "99993   50000  1995-07-28 00:00  PO16 8PB    S      N        F\n",
      "99994   84500  1995-09-15 00:00   GL5 5AG    S      N        F\n",
      "99995   35000  1995-02-24 00:00   NG3 1HB    T      N        F\n",
      "99996   20000  1995-10-25 00:00   HU6 7RG    T      N        F\n",
      "99997   41000  1995-05-24 00:00   OL4 1JB    S      N        L\n",
      "99998   32500  1995-01-06 00:00  BD18 4PJ    T      N        F\n",
      "99999   64500  1995-07-14 00:00  CF31 1NP    D      N        F\n",
      "\n",
      "[100000 rows x 6 columns]\n"
     ]
    }
   ],
   "source": [
    "print(file.get_chunk())\n",
    "for chunk in file:\n",
    "    pass"
   ]
  },
  {
   "cell_type": "code",
   "execution_count": null,
   "metadata": {},
   "outputs": [],
   "source": []
  },
  {
   "cell_type": "code",
   "execution_count": 16,
   "metadata": {},
   "outputs": [],
   "source": []
  },
  {
   "cell_type": "code",
   "execution_count": null,
   "metadata": {},
   "outputs": [],
   "source": []
  }
 ],
 "metadata": {
  "kernelspec": {
   "display_name": "my-virtualenv-name",
   "language": "python",
   "name": "my-virtualenv-name"
  },
  "language_info": {
   "codemirror_mode": {
    "name": "ipython",
    "version": 3
   },
   "file_extension": ".py",
   "mimetype": "text/x-python",
   "name": "python",
   "nbconvert_exporter": "python",
   "pygments_lexer": "ipython3",
   "version": "3.7.2"
  }
 },
 "nbformat": 4,
 "nbformat_minor": 2
}
